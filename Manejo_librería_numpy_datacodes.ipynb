{
  "nbformat": 4,
  "nbformat_minor": 0,
  "metadata": {
    "colab": {
      "name": "Manejo librería numpy datacodes",
      "provenance": [],
      "collapsed_sections": [],
      "authorship_tag": "ABX9TyO87BJ2v0S/ze43kBqGkfuP",
      "include_colab_link": true
    },
    "kernelspec": {
      "name": "python3",
      "display_name": "Python 3"
    },
    "language_info": {
      "name": "python"
    }
  },
  "cells": [
    {
      "cell_type": "markdown",
      "metadata": {
        "id": "view-in-github",
        "colab_type": "text"
      },
      "source": [
        "<a href=\"https://colab.research.google.com/github/davidest1995/Data-Science/blob/main/Manejo_librer%C3%ADa_numpy_datacodes.ipynb\" target=\"_parent\"><img src=\"https://colab.research.google.com/assets/colab-badge.svg\" alt=\"Open In Colab\"/></a>"
      ]
    },
    {
      "cell_type": "code",
      "execution_count": null,
      "metadata": {
        "colab": {
          "base_uri": "https://localhost:8080/"
        },
        "id": "gad7dLIMctNr",
        "outputId": "9e6115bf-565e-4e56-e9d0-c64a0048fe97"
      },
      "outputs": [
        {
          "output_type": "stream",
          "name": "stdout",
          "text": [
            "[1 2 3]\n",
            "1\n",
            "[[1 2 3]]\n",
            "2\n",
            "[1 2 3]\n",
            "1\n"
          ]
        }
      ],
      "source": [
        "# Agradar y quitar dimensiones de arrays utilizando las herramientas de la librería numpy.\n",
        "\n",
        "import numpy as np\n",
        "\n",
        "vector = np.array([1,2,3])\n",
        "print(vector)\n",
        "print(vector.ndim)\n",
        "\n",
        "expand = np.expand_dims(vector, axis= 0)\n",
        "print(expand)\n",
        "print(expand.ndim)\n",
        "\n",
        "rest = np.squeeze(expand)\n",
        "print(rest)\n",
        "print(rest.ndim)"
      ]
    },
    {
      "cell_type": "code",
      "source": [
        "# Creando arrays\n",
        "import numpy as np\n",
        "import random \n",
        "# lista= (np.arange(0,10,2))\n",
        "# print(lista)\n",
        "\n",
        "# np.zeros((10,10))\n",
        "# np.ones((3,3))\n",
        "# np.linspace(0,10,10)\n",
        "# np.eye(4)\n",
        "# np.random.rand(0,100)\n",
        "np.random.randint(1,100,(10,10))"
      ],
      "metadata": {
        "colab": {
          "base_uri": "https://localhost:8080/"
        },
        "id": "sZYfnJCNAViQ",
        "outputId": "54d1dd60-a461-47da-96a8-7b1f3e80d924"
      },
      "execution_count": null,
      "outputs": [
        {
          "output_type": "execute_result",
          "data": {
            "text/plain": [
              "array([[78,  9, 15, 75, 60, 98, 31, 87, 94,  3],\n",
              "       [ 8, 63, 75, 30, 82, 60, 27, 76, 14,  0],\n",
              "       [23, 83, 70, 97, 77, 18, 77, 73,  0, 99],\n",
              "       [99, 88, 27, 44, 33, 89, 66, 77, 11, 40],\n",
              "       [75,  7, 68, 91, 44, 53, 45, 76, 73, 47],\n",
              "       [ 5, 91, 38, 90, 80,  8, 65, 42, 19, 54],\n",
              "       [82,  2,  3, 99, 62, 89, 21, 76, 41, 36],\n",
              "       [84, 22, 35, 22, 19, 83, 93, 87, 38, 33],\n",
              "       [97, 34, 63, 67, 45, 63,  8, 93, 83, 60],\n",
              "       [46, 29, 83, 87, 47, 73, 48, 23, 75, 58]])"
            ]
          },
          "metadata": {},
          "execution_count": 8
        }
      ]
    },
    {
      "cell_type": "code",
      "source": [
        "import numpy as np\n",
        "\n",
        "arr= np.random.randint(1,10,(3,2))\n",
        "print(arr)\n",
        "\n",
        "print(arr.reshape(1,6))"
      ],
      "metadata": {
        "colab": {
          "base_uri": "https://localhost:8080/"
        },
        "id": "AT0vgFRCMo4g",
        "outputId": "a6ed795d-63d3-4692-af8f-35273bde3448"
      },
      "execution_count": null,
      "outputs": [
        {
          "output_type": "stream",
          "name": "stdout",
          "text": [
            "[[4 6]\n",
            " [5 6]\n",
            " [1 6]]\n",
            "[[4 6 5 6 1 6]]\n"
          ]
        }
      ]
    },
    {
      "cell_type": "code",
      "source": [
        "# Fundiones principales de numpy\n",
        "from numpy.core.fromnumeric import argmax\n",
        "import numpy as np\n",
        "\n",
        "arr= np.random.randint(0,1000,100)\n",
        "print(f'El arraw inicial es : {arr}')\n",
        "\n",
        "arr_1= arr.reshape(10,10)\n",
        "\n",
        "print(f'El array visto como matriz definida previamente: {arr_1}')\n",
        "\n",
        "num_mayor = arr.max()\n",
        "num_menor = arr.min()\n",
        "location_max = arr.argmax()\n",
        "location_min = arr.argmin()\n",
        "deltha = arr.ptp()\n",
        "mediana = np.percentile(arr,50)\n",
        "desv_est = np.std(arr)\n",
        "varianza = np.var(arr)\n",
        "media = np.mean(arr)\n",
        "arr_2=np.sort(arr)\n",
        "print(f'El numero mayor del array es: {num_mayor} ,se encuentra en {location_max} y el menor es:  {num_menor}, se encuentra en {location_min}. Su diferencia es: {deltha}')\n",
        "print(f'La media es: {media}')\n",
        "print(f'La mediana es : {mediana}')\n",
        "print(f'La desviación estandar es: {desv_est}')\n",
        "print(f'La varianza es: {varianza}')\n",
        "print(f'La matriz ordenada : {arr_2}')\n",
        "\n",
        "# finalmente puedo concatenar datos, en este caso arr_1 y arr_2\n",
        "\n",
        "c= np.concatenate((arr_2,arr),axis=0)\n",
        "\n",
        "print(f'La matriz concatenada es: {c}')\n",
        "\n"
      ],
      "metadata": {
        "colab": {
          "base_uri": "https://localhost:8080/"
        },
        "id": "mF9mXM9zPcwl",
        "outputId": "0bcb724a-37ae-4d8c-a9d8-4b6ca5602eee"
      },
      "execution_count": null,
      "outputs": [
        {
          "output_type": "stream",
          "name": "stdout",
          "text": [
            "El arraw inicial es : [900 409 140 704 964 588 485 702 859  79 174 612 881 237  31 152 572 794\n",
            " 782 450 482  86 733 154 198 585 827 544 359 459 310 415 526 243 513 698\n",
            " 771 240 775  50 944 895 575 734 664 719  23 469 535 447 265 329  59 479\n",
            "  21  81 955 324 174 697 923 369 464 939 852  56 704 262 280 495  40 592\n",
            "  76 891 899 972 112 198 774 740 237 454 212 627 391 627 145  38 517 933\n",
            " 461  26 545 326  24 295  13 773 152 825]\n",
            "El array visto como matriz definida previamente: [[900 409 140 704 964 588 485 702 859  79]\n",
            " [174 612 881 237  31 152 572 794 782 450]\n",
            " [482  86 733 154 198 585 827 544 359 459]\n",
            " [310 415 526 243 513 698 771 240 775  50]\n",
            " [944 895 575 734 664 719  23 469 535 447]\n",
            " [265 329  59 479  21  81 955 324 174 697]\n",
            " [923 369 464 939 852  56 704 262 280 495]\n",
            " [ 40 592  76 891 899 972 112 198 774 740]\n",
            " [237 454 212 627 391 627 145  38 517 933]\n",
            " [461  26 545 326  24 295  13 773 152 825]]\n",
            "El numero mayor del array es: 972 ,se encuentra en 75 y el menor es:  13, se encuentra en 96. Su diferencia es: 959\n",
            "La media es: 471.31\n",
            "La mediana es : 474.0\n",
            "La desviación estandar es: 292.6586303186701\n",
            "La varianza es: 85649.0739\n",
            "La matriz ordenada : [ 13  21  23  24  26  31  38  40  50  56  59  76  79  81  86 112 140 145\n",
            " 152 152 154 174 174 198 198 212 237 237 240 243 262 265 280 295 310 324\n",
            " 326 329 359 369 391 409 415 447 450 454 459 461 464 469 479 482 485 495\n",
            " 513 517 526 535 544 545 572 575 585 588 592 612 627 627 664 697 698 702\n",
            " 704 704 719 733 734 740 771 773 774 775 782 794 825 827 852 859 881 891\n",
            " 895 899 900 923 933 939 944 955 964 972]\n",
            "La matriz concatenada es: [ 13  21  23  24  26  31  38  40  50  56  59  76  79  81  86 112 140 145\n",
            " 152 152 154 174 174 198 198 212 237 237 240 243 262 265 280 295 310 324\n",
            " 326 329 359 369 391 409 415 447 450 454 459 461 464 469 479 482 485 495\n",
            " 513 517 526 535 544 545 572 575 585 588 592 612 627 627 664 697 698 702\n",
            " 704 704 719 733 734 740 771 773 774 775 782 794 825 827 852 859 881 891\n",
            " 895 899 900 923 933 939 944 955 964 972 900 409 140 704 964 588 485 702\n",
            " 859  79 174 612 881 237  31 152 572 794 782 450 482  86 733 154 198 585\n",
            " 827 544 359 459 310 415 526 243 513 698 771 240 775  50 944 895 575 734\n",
            " 664 719  23 469 535 447 265 329  59 479  21  81 955 324 174 697 923 369\n",
            " 464 939 852  56 704 262 280 495  40 592  76 891 899 972 112 198 774 740\n",
            " 237 454 212 627 391 627 145  38 517 933 461  26 545 326  24 295  13 773\n",
            " 152 825]\n"
          ]
        }
      ]
    },
    {
      "cell_type": "code",
      "source": [
        "# COPY\n",
        "import numpy as np\n",
        "\n",
        "arr= np.arange(0,11)\n",
        "# trozo= arr[0:6] = 100\n",
        "\n",
        "arr_copy= arr.copy()\n",
        "arr_copy[2:4] = 12\n",
        "\n",
        "arr\n",
        "arr_copy\n",
        "\n"
      ],
      "metadata": {
        "colab": {
          "base_uri": "https://localhost:8080/"
        },
        "id": "v0VtXtopZjJH",
        "outputId": "c6109025-a440-4196-a4f2-32a6f0852dc6"
      },
      "execution_count": null,
      "outputs": [
        {
          "output_type": "execute_result",
          "data": {
            "text/plain": [
              "array([ 0,  1, 12, 12,  4,  5,  6,  7,  8,  9, 10])"
            ]
          },
          "metadata": {},
          "execution_count": 33
        }
      ]
    },
    {
      "cell_type": "code",
      "source": [
        "# Conditions\n",
        "import numpy as np\n",
        "\n",
        "arr = np.linspace( 1 , 10 , 10 , dtype = 'int8')\n",
        "indices_cond = (arr > 4) & (arr < 9)\n",
        "\n",
        "arr[indices_cond ] = 1\n",
        "\n",
        "arr"
      ],
      "metadata": {
        "colab": {
          "base_uri": "https://localhost:8080/"
        },
        "id": "Z5nYRUT4bnsB",
        "outputId": "8550f7f2-46cf-4ac0-ba84-357e643477eb"
      },
      "execution_count": null,
      "outputs": [
        {
          "output_type": "execute_result",
          "data": {
            "text/plain": [
              "array([ 1,  2,  3,  4,  1,  1,  1,  1,  9, 10], dtype=int8)"
            ]
          },
          "metadata": {},
          "execution_count": 10
        }
      ]
    },
    {
      "cell_type": "code",
      "source": [
        "# Operaciones\n",
        "import numpy as np\n",
        "\n",
        "# list = [1,2]\n",
        "# list * 2\n",
        "\n",
        "arr = np.arange(0,10)\n",
        "matriz = arr.reshape(2,5)\n",
        "matriz2 = np.copy(matriz)\n",
        "\n",
        "matriz @ matriz2.T\n",
        "\n",
        "# producto_punto = np.matmul(matriz,matriz2.T)\n",
        "# producto_punto\n",
        "\n"
      ],
      "metadata": {
        "colab": {
          "base_uri": "https://localhost:8080/"
        },
        "id": "7bHitmvPe2Zx",
        "outputId": "5a594080-08fd-479d-d466-25b399d7a2a5"
      },
      "execution_count": null,
      "outputs": [
        {
          "output_type": "execute_result",
          "data": {
            "text/plain": [
              "array([[ 30,  80],\n",
              "       [ 80, 255]])"
            ]
          },
          "metadata": {},
          "execution_count": 84
        }
      ]
    }
  ]
}